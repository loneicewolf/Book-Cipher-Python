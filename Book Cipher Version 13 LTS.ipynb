{
 "cells": [
  {
   "cell_type": "markdown",
   "metadata": {},
   "source": [
    "### Author: William Martens\n",
    "------------------------------------\n",
    "### Project: BookCipher (Encryptor and Decryptor)\n",
    "------------------------------------\n",
    "### Date: 2020-10-24 (Swedish Time & Date)\n",
    "------------------------------------\n",
    "### Time: 20:20\n",
    "------------------------------------\n",
    "#### Key Words:   BookCipher ,  Obfuscation , Steganography , Cryptography, \n",
    "------------------------------------\n",
    "#### Project Purpose:\n",
    "\"Why did I make this project?\"\n",
    "I have asked myself that question.\n",
    "\n",
    "----------------------------\n",
    "\n",
    "\n",
    "This has been on my mind forever. Yes, **forever**. \n",
    "As long as I can remember it, the first time I heard about encryption, or anything related to it at all; was book-ciphers.\n",
    "\n",
    "It was quite cool thing actually, so I obviously, **searched on the internet** (This was a few years ago, 6 or even 8 to 10 years ago, approx.) **For a program that would do that**; \n",
    "\n",
    "You would provide a message, a book - and it would find the words you typed in, *in the book*. \n",
    "\n",
    "And, it would give the so-called 'Book-Code' This is a sequence of \"sub-keys\" that are needed for decrypting. This sequence of \"sub-keys\"'s purpose, would be - If entered correctly into the program; It(the program) would find only those words which corresponds to the sub-keys. And, print those out.\n",
    "\n",
    "-----------------------\n",
    "\n",
    "Now, of course there already was these, so-called 'Book-Code Encryptors and Decryptors' online,\n",
    "**but I wanted a program**, (That, for 1 reason of many, many reasons; could run offline, and where I could learn from it, improve it,(...) and so on.)\n",
    "\n",
    "Shortly, I never found any **completely-done, fully-working,  program that does that.** On the internet.\n",
    "\n",
    "- Not even today. \n",
    "\n",
    "----------------------------\n",
    "\n",
    "Until now - that is. although, I \"Didn't found\", but I \"Made\" one.\n",
    "In python!, trough Jupyter!\n",
    "\n",
    "So, here is a book cipher, implemented in Python. \n",
    "\n",
    "Hope it can help those who, from years ago - who searched for a book cipher, like I did(like crazy). And, I (**again**) hope this can help those who,  In the **Future**; Searches for a BookCipher.\n",
    "One example of this, would be a question on stack overflow\n",
    "* https://stackoverflow.com/questions/42926663/arnold-book-cipher-with-python\n",
    "----------------------------\n",
    "This question, I have since **YEARS AGO** (Ever since I started having this idea to make this program) I have looked at ever since then. And I am happy to be able to answer it, although - I am quite surprised *No-one still have a answer(a **A working, answer that is**)* To it.\n",
    "\n",
    "----------------------------\n",
    "This question, is nearly (**If not identical**) to my problem I faced  **Years ago.** The idea was simple, and could be theoretically answered - like any other \"plan\" or \"architecture/structure\" of how a program would work..\n",
    " \n",
    " \"In theory, it's very simple.\"\n",
    " \n",
    " **In practice ...**\n",
    " **It isn't easy.**\n",
    " \"In practice, it can get **very, very difficult.**\"\n",
    " \n",
    " I am myself very pleased with this program. Feel free to use it, I made it mainly - for myself, although I want to share this. So I really hope this can be useful for anyone who - like me, has for decades ago searched like crazy on the net for a book cipher, in for example python.\n",
    " \n",
    "### Project Links:\n",
    "### - https://en.wikipedia.org/wiki/Book_cipher\n",
    "### - https://stackoverflow.com/questions/1247486/list-comprehension-vs-map\n",
    "### - https://stackoverflow.com/questions/7368789/convert-all-strings-in-a-list-to-int\n",
    "### - https://stackoverflow.com/questions/42926663/arnold-book-cipher-with-python\n",
    " "
   ]
  },
  {
   "cell_type": "code",
   "execution_count": 1,
   "metadata": {},
   "outputs": [],
   "source": [
    "\n",
    "# I seperated the program into \"parts\" of \n",
    "# Code, for doing various things such as:\n",
    "# reading in a book's contents (book.txt)\n",
    "# splitting the contents of the book into seperated words,\n",
    "# ...."
   ]
  },
  {
   "cell_type": "code",
   "execution_count": null,
   "metadata": {},
   "outputs": [],
   "source": []
  },
  {
   "cell_type": "markdown",
   "metadata": {},
   "source": [
    "# Book Reader"
   ]
  },
  {
   "cell_type": "code",
   "execution_count": 2,
   "metadata": {},
   "outputs": [],
   "source": [
    "# Replace \"document1.txt\" with whatever your book / document's name is. \n",
    "BOOK=\"document1.txt\"\n",
    "\n",
    "def GetBookContent(BOOK):\n",
    "    ReadBook = open(BOOK, \"r\")\n",
    "    txtContent_splitted = ReadBook.read();\n",
    "    ReadBook.close()\n",
    "    Words=txtContent_splitted\n",
    "    \n",
    "    return(txtContent_splitted.split())\n"
   ]
  },
  {
   "cell_type": "code",
   "execution_count": null,
   "metadata": {},
   "outputs": [],
   "source": []
  },
  {
   "cell_type": "markdown",
   "metadata": {},
   "source": [
    "# Get book contents\n",
    "*get the book's contents,*\n",
    "*And puts it to* **boktxt**"
   ]
  },
  {
   "cell_type": "code",
   "execution_count": 3,
   "metadata": {},
   "outputs": [],
   "source": [
    "boktxt = GetBookContent(BOOK)"
   ]
  },
  {
   "cell_type": "code",
   "execution_count": null,
   "metadata": {},
   "outputs": [],
   "source": []
  },
  {
   "cell_type": "markdown",
   "metadata": {},
   "source": [
    "# Input plain text"
   ]
  },
  {
   "cell_type": "code",
   "execution_count": 5,
   "metadata": {},
   "outputs": [
    {
     "name": "stdout",
     "output_type": "stream",
     "text": [
      "input text: a house on the garden, Bob was inside all the time. Alice wasn't actually outside.\n",
      "\n",
      "you entered these words:\n",
      " ['a', 'house', 'on', 'the', 'garden,', 'Bob', 'was', 'inside', 'all', 'the', 'time.', 'Alice', \"wasn't\", 'actually', 'outside.']\n"
     ]
    }
   ],
   "source": [
    "\n",
    "words=input(\"input text: \").split()\n",
    "print(\"\\nyou entered these words:\\n\",words)"
   ]
  },
  {
   "cell_type": "code",
   "execution_count": null,
   "metadata": {},
   "outputs": [],
   "source": []
  },
  {
   "cell_type": "markdown",
   "metadata": {},
   "source": [
    "### | Encrypting your input text\n",
    "Sample message to encrypt:\n",
    "\n",
    "**a house on the garden, Bob was inside all the time. Alice wasn't actually outside.**\n",
    "\n",
    "This will be encrypted using the book cipher;\n",
    "And the result is the **sequence of sub-keys** I eplained about in the **Documentation.txt**\n",
    "\n",
    "**Which looks like this:** 2 3 7 8 9 0 18 30 33 8 35 6 37 38 39\n",
    "****\n"
   ]
  },
  {
   "cell_type": "code",
   "execution_count": null,
   "metadata": {},
   "outputs": [],
   "source": []
  },
  {
   "cell_type": "markdown",
   "metadata": {},
   "source": [
    "# CODE FOR ENCRYPTION"
   ]
  },
  {
   "cell_type": "code",
   "execution_count": 10,
   "metadata": {},
   "outputs": [
    {
     "name": "stdout",
     "output_type": "stream",
     "text": [
      "2\n",
      "3\n",
      "7\n",
      "8\n",
      "9\n",
      "0\n",
      "18\n",
      "30\n",
      "33\n",
      "8\n",
      "35\n",
      "6\n",
      "37\n",
      "38\n",
      "39\n"
     ]
    }
   ],
   "source": [
    "i=0\n",
    "words_len=len(words)\n",
    "for word in boktxt:\n",
    "    while i < words_len: #+\n",
    "        #print(GetBookContent(BOOK).index(words[i]))#-\n",
    "        print(boktxt.index(words[i]))\n",
    "        i=i+1\n",
    "\n",
    "#Fixed Index error out of range\n",
    "#changed print(GetBookContent(BOOK).index(words[i])) -> print(boktxt.index(words[i]))\n",
    "#added words_len variable above\n",
    "#//Much cleaner output//"
   ]
  },
  {
   "cell_type": "code",
   "execution_count": 13,
   "metadata": {},
   "outputs": [
    {
     "name": "stdout",
     "output_type": "stream",
     "text": [
      "\n",
      "Words we typed in \n",
      "\n",
      " ['a', 'house', 'on', 'the', 'garden,', 'Bob', 'was', 'inside', 'all', 'the', 'time.', 'Alice', \"wasn't\", 'actually', 'outside.']\n",
      "Book code gave us these words; 2 3 7 8 9 0 18 30 33 8 35 6 37 38 39 in the book.\n",
      "\n",
      "Printing a few of them: \n",
      " \n",
      "\n",
      " 2 3 7 8 9 0  ->  a house on the garden, Bob\n"
     ]
    }
   ],
   "source": [
    "###We can check we got the correct words:\n",
    "#We typed in:\n",
    "print(\"\\nWords we typed in \\n\\n\", words)\n",
    "\n",
    "\n",
    "print(\"Book code gave us these words;\",\n",
    "      \"2 3 7 8 9 0 18 30 33 8 35 6 37 38 39\"\n",
    "      ,\"in the book.\\n\\nPrinting a few of them: \\n \\n\")\n",
    "\n",
    "print(\" 2 3 7 8 9 0  -> \",boktxt[2],boktxt[3],boktxt[7],boktxt[8],boktxt[9],boktxt[0]) #...#"
   ]
  },
  {
   "cell_type": "markdown",
   "metadata": {},
   "source": [
    "**our book code**\n",
    "\n",
    "2 3 7 8 9 0 18 30 33 8 35 6 37 38 39"
   ]
  },
  {
   "cell_type": "markdown",
   "metadata": {},
   "source": [
    "# CODE FOR DECRYPTION"
   ]
  },
  {
   "cell_type": "markdown",
   "metadata": {},
   "source": [
    "### Here we type in the code we got above,   2 3 7 8 9 0 18 30 33 8 35 6 37 38 39 "
   ]
  },
  {
   "cell_type": "code",
   "execution_count": 11,
   "metadata": {},
   "outputs": [
    {
     "name": "stdout",
     "output_type": "stream",
     "text": [
      "input key-sequence sep. With spaces: 2 3 7 8 9 0 18 30 33 8 35 6 37 38 39\n",
      "a\n",
      "house\n",
      "on\n",
      "the\n",
      "garden,\n",
      "Bob\n",
      "was\n",
      "inside\n",
      "all\n",
      "the\n",
      "time.\n",
      "Alice\n",
      "wasn't\n",
      "actually\n",
      "outside.\n"
     ]
    }
   ],
   "source": [
    "x=0\n",
    "klist=input(\"input key-sequence sep. With spaces: \").split()\n",
    "for keys in klist:\n",
    "        print(boktxt[int(klist[x])])\n",
    "        x=x+1"
   ]
  },
  {
   "cell_type": "code",
   "execution_count": null,
   "metadata": {},
   "outputs": [],
   "source": []
  }
 ],
 "metadata": {
  "kernelspec": {
   "display_name": "Python 3",
   "language": "python",
   "name": "python3"
  },
  "language_info": {
   "codemirror_mode": {
    "name": "ipython",
    "version": 3
   },
   "file_extension": ".py",
   "mimetype": "text/x-python",
   "name": "python",
   "nbconvert_exporter": "python",
   "pygments_lexer": "ipython3",
   "version": "3.8.6"
  }
 },
 "nbformat": 4,
 "nbformat_minor": 4
}
